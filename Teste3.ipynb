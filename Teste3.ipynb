{
 "cells": [
  {
   "cell_type": "code",
   "execution_count": 135,
   "id": "b0958b85",
   "metadata": {},
   "outputs": [],
   "source": [
    "import pandas as pd "
   ]
  },
  {
   "cell_type": "markdown",
   "id": "e13f429d",
   "metadata": {},
   "source": [
    "###### Obtendo os dados "
   ]
  },
  {
   "cell_type": "code",
   "execution_count": 136,
   "id": "cb1419b0",
   "metadata": {},
   "outputs": [],
   "source": [
    "df1 = pd.read_csv('1T2020.csv', encoding='cp1252', sep=';')"
   ]
  },
  {
   "cell_type": "code",
   "execution_count": 137,
   "id": "b02b4035",
   "metadata": {},
   "outputs": [],
   "source": [
    "df2 = pd.read_csv('1T2021.csv', encoding='ISO-8859-1', sep=';')"
   ]
  },
  {
   "cell_type": "code",
   "execution_count": 138,
   "id": "37ac6dc4",
   "metadata": {},
   "outputs": [],
   "source": [
    "df3 = pd.read_csv('2T2020.csv', encoding='ISO-8859-1', sep=';')"
   ]
  },
  {
   "cell_type": "code",
   "execution_count": 139,
   "id": "929831ba",
   "metadata": {},
   "outputs": [],
   "source": [
    "df4 = pd.read_csv('2T2021.csv', encoding='ISO-8859-1', sep=';')"
   ]
  },
  {
   "cell_type": "code",
   "execution_count": 140,
   "id": "176c0efb",
   "metadata": {},
   "outputs": [],
   "source": [
    "df5 = pd.read_csv('3T2020.csv', encoding='ISO-8859-1', sep=';')"
   ]
  },
  {
   "cell_type": "code",
   "execution_count": 141,
   "id": "cfb1e365",
   "metadata": {},
   "outputs": [],
   "source": [
    "df6 = pd.read_csv('3T2021.csv', encoding='ISO-8859-1', sep=';')"
   ]
  },
  {
   "cell_type": "code",
   "execution_count": 142,
   "id": "15df00c0",
   "metadata": {},
   "outputs": [],
   "source": [
    "df7 = pd.read_csv('4T2020.csv', encoding='ISO-8859-1', sep=';')"
   ]
  },
  {
   "cell_type": "code",
   "execution_count": 143,
   "id": "2014c657",
   "metadata": {},
   "outputs": [],
   "source": [
    "df8 = pd.read_csv('4T2021.csv', encoding='utf-8', sep=';')"
   ]
  },
  {
   "cell_type": "markdown",
   "id": "1ba4343d",
   "metadata": {},
   "source": [
    "###### Concatenando os DataFrames "
   ]
  },
  {
   "cell_type": "code",
   "execution_count": 144,
   "id": "e2e78f15",
   "metadata": {},
   "outputs": [],
   "source": [
    "combined_csv = pd.concat([df1, df2, df3, df4, df5, df6, df7, df8], ignore_index=True)"
   ]
  },
  {
   "cell_type": "code",
   "execution_count": 145,
   "id": "5b364990",
   "metadata": {},
   "outputs": [
    {
     "data": {
      "text/html": [
       "<div>\n",
       "<style scoped>\n",
       "    .dataframe tbody tr th:only-of-type {\n",
       "        vertical-align: middle;\n",
       "    }\n",
       "\n",
       "    .dataframe tbody tr th {\n",
       "        vertical-align: top;\n",
       "    }\n",
       "\n",
       "    .dataframe thead th {\n",
       "        text-align: right;\n",
       "    }\n",
       "</style>\n",
       "<table border=\"1\" class=\"dataframe\">\n",
       "  <thead>\n",
       "    <tr style=\"text-align: right;\">\n",
       "      <th></th>\n",
       "      <th>DATA</th>\n",
       "      <th>REG_ANS</th>\n",
       "      <th>CD_CONTA_CONTABIL</th>\n",
       "      <th>DESCRICAO</th>\n",
       "      <th>VL_SALDO_FINAL</th>\n",
       "      <th>VL_SALDO_INICIAL</th>\n",
       "    </tr>\n",
       "  </thead>\n",
       "  <tbody>\n",
       "    <tr>\n",
       "      <th>0</th>\n",
       "      <td>01/01/2020</td>\n",
       "      <td>315796</td>\n",
       "      <td>411111263</td>\n",
       "      <td>Recuperação por Co-Participação na modalidade ...</td>\n",
       "      <td>-723497,64</td>\n",
       "      <td>NaN</td>\n",
       "    </tr>\n",
       "    <tr>\n",
       "      <th>1</th>\n",
       "      <td>01/01/2020</td>\n",
       "      <td>315796</td>\n",
       "      <td>41111171</td>\n",
       "      <td>Planos Individuais/Familiares antes da Lei</td>\n",
       "      <td>70815,64</td>\n",
       "      <td>NaN</td>\n",
       "    </tr>\n",
       "    <tr>\n",
       "      <th>2</th>\n",
       "      <td>01/01/2020</td>\n",
       "      <td>315796</td>\n",
       "      <td>411111711</td>\n",
       "      <td>Despesas com Eventos / Sinistros na modalidade...</td>\n",
       "      <td>92525,89</td>\n",
       "      <td>NaN</td>\n",
       "    </tr>\n",
       "    <tr>\n",
       "      <th>3</th>\n",
       "      <td>01/01/2020</td>\n",
       "      <td>315796</td>\n",
       "      <td>411111712</td>\n",
       "      <td>Glosa na modalidade de pagamento por procedimento</td>\n",
       "      <td>-19027,66</td>\n",
       "      <td>NaN</td>\n",
       "    </tr>\n",
       "    <tr>\n",
       "      <th>4</th>\n",
       "      <td>01/01/2020</td>\n",
       "      <td>315796</td>\n",
       "      <td>411111713</td>\n",
       "      <td>Recuperação por Co-Participação na modalidade ...</td>\n",
       "      <td>-2682,59</td>\n",
       "      <td>NaN</td>\n",
       "    </tr>\n",
       "    <tr>\n",
       "      <th>...</th>\n",
       "      <td>...</td>\n",
       "      <td>...</td>\n",
       "      <td>...</td>\n",
       "      <td>...</td>\n",
       "      <td>...</td>\n",
       "      <td>...</td>\n",
       "    </tr>\n",
       "    <tr>\n",
       "      <th>5965852</th>\n",
       "      <td>2021-10-01</td>\n",
       "      <td>311693</td>\n",
       "      <td>46331</td>\n",
       "      <td>DESPESAS COM UTILIZAÇÃO DE EQUIPAMENTOS E VEÍC...</td>\n",
       "      <td>0,00</td>\n",
       "      <td>0,00</td>\n",
       "    </tr>\n",
       "    <tr>\n",
       "      <th>5965853</th>\n",
       "      <td>2021-10-01</td>\n",
       "      <td>311693</td>\n",
       "      <td>463319</td>\n",
       "      <td>Despesas com Utilização de Equipamentos e Veíc...</td>\n",
       "      <td>0,00</td>\n",
       "      <td>0,00</td>\n",
       "    </tr>\n",
       "    <tr>\n",
       "      <th>5965854</th>\n",
       "      <td>2021-10-01</td>\n",
       "      <td>311693</td>\n",
       "      <td>46331901</td>\n",
       "      <td>Despesas com Utilização de Equipamentos e Veíc...</td>\n",
       "      <td>0,00</td>\n",
       "      <td>0,00</td>\n",
       "    </tr>\n",
       "    <tr>\n",
       "      <th>5965855</th>\n",
       "      <td>2021-10-01</td>\n",
       "      <td>311693</td>\n",
       "      <td>463319011</td>\n",
       "      <td>Aluguel</td>\n",
       "      <td>0,00</td>\n",
       "      <td>0,00</td>\n",
       "    </tr>\n",
       "    <tr>\n",
       "      <th>5965856</th>\n",
       "      <td>2021-10-01</td>\n",
       "      <td>311693</td>\n",
       "      <td>463319012</td>\n",
       "      <td>Arrendamento Mercantil Operacional</td>\n",
       "      <td>0,00</td>\n",
       "      <td>0,00</td>\n",
       "    </tr>\n",
       "  </tbody>\n",
       "</table>\n",
       "<p>5965857 rows × 6 columns</p>\n",
       "</div>"
      ],
      "text/plain": [
       "               DATA  REG_ANS  CD_CONTA_CONTABIL  \\\n",
       "0        01/01/2020   315796          411111263   \n",
       "1        01/01/2020   315796           41111171   \n",
       "2        01/01/2020   315796          411111711   \n",
       "3        01/01/2020   315796          411111712   \n",
       "4        01/01/2020   315796          411111713   \n",
       "...             ...      ...                ...   \n",
       "5965852  2021-10-01   311693              46331   \n",
       "5965853  2021-10-01   311693             463319   \n",
       "5965854  2021-10-01   311693           46331901   \n",
       "5965855  2021-10-01   311693          463319011   \n",
       "5965856  2021-10-01   311693          463319012   \n",
       "\n",
       "                                                 DESCRICAO VL_SALDO_FINAL  \\\n",
       "0        Recuperação por Co-Participação na modalidade ...     -723497,64   \n",
       "1               Planos Individuais/Familiares antes da Lei       70815,64   \n",
       "2        Despesas com Eventos / Sinistros na modalidade...       92525,89   \n",
       "3        Glosa na modalidade de pagamento por procedimento      -19027,66   \n",
       "4        Recuperação por Co-Participação na modalidade ...       -2682,59   \n",
       "...                                                    ...            ...   \n",
       "5965852  DESPESAS COM UTILIZAÇÃO DE EQUIPAMENTOS E VEÍC...           0,00   \n",
       "5965853  Despesas com Utilização de Equipamentos e Veíc...           0,00   \n",
       "5965854  Despesas com Utilização de Equipamentos e Veíc...           0,00   \n",
       "5965855                                            Aluguel           0,00   \n",
       "5965856                 Arrendamento Mercantil Operacional           0,00   \n",
       "\n",
       "        VL_SALDO_INICIAL  \n",
       "0                    NaN  \n",
       "1                    NaN  \n",
       "2                    NaN  \n",
       "3                    NaN  \n",
       "4                    NaN  \n",
       "...                  ...  \n",
       "5965852             0,00  \n",
       "5965853             0,00  \n",
       "5965854             0,00  \n",
       "5965855             0,00  \n",
       "5965856             0,00  \n",
       "\n",
       "[5965857 rows x 6 columns]"
      ]
     },
     "execution_count": 145,
     "metadata": {},
     "output_type": "execute_result"
    }
   ],
   "source": [
    "combined_csv"
   ]
  },
  {
   "cell_type": "code",
   "execution_count": 146,
   "id": "af92eb29",
   "metadata": {},
   "outputs": [
    {
     "data": {
      "text/plain": [
       "5965857"
      ]
     },
     "execution_count": 146,
     "metadata": {},
     "output_type": "execute_result"
    }
   ],
   "source": [
    "len(df1) + len(df2) + len(df3) + len(df4) + len(df5) + len(df6) + len(df7) + len(df8)"
   ]
  },
  {
   "cell_type": "markdown",
   "id": "a6b4fe0f",
   "metadata": {},
   "source": [
    "###### Convertendo coluna Data para datetime "
   ]
  },
  {
   "cell_type": "code",
   "execution_count": 147,
   "id": "83bf7e0c",
   "metadata": {},
   "outputs": [
    {
     "data": {
      "text/html": [
       "<div>\n",
       "<style scoped>\n",
       "    .dataframe tbody tr th:only-of-type {\n",
       "        vertical-align: middle;\n",
       "    }\n",
       "\n",
       "    .dataframe tbody tr th {\n",
       "        vertical-align: top;\n",
       "    }\n",
       "\n",
       "    .dataframe thead th {\n",
       "        text-align: right;\n",
       "    }\n",
       "</style>\n",
       "<table border=\"1\" class=\"dataframe\">\n",
       "  <thead>\n",
       "    <tr style=\"text-align: right;\">\n",
       "      <th></th>\n",
       "      <th>DATA</th>\n",
       "      <th>REG_ANS</th>\n",
       "      <th>CD_CONTA_CONTABIL</th>\n",
       "      <th>DESCRICAO</th>\n",
       "      <th>VL_SALDO_FINAL</th>\n",
       "      <th>VL_SALDO_INICIAL</th>\n",
       "    </tr>\n",
       "  </thead>\n",
       "  <tbody>\n",
       "    <tr>\n",
       "      <th>0</th>\n",
       "      <td>2020-01-01</td>\n",
       "      <td>315796</td>\n",
       "      <td>411111263</td>\n",
       "      <td>Recuperação por Co-Participação na modalidade ...</td>\n",
       "      <td>-723497,64</td>\n",
       "      <td>NaN</td>\n",
       "    </tr>\n",
       "    <tr>\n",
       "      <th>1</th>\n",
       "      <td>2020-01-01</td>\n",
       "      <td>315796</td>\n",
       "      <td>41111171</td>\n",
       "      <td>Planos Individuais/Familiares antes da Lei</td>\n",
       "      <td>70815,64</td>\n",
       "      <td>NaN</td>\n",
       "    </tr>\n",
       "    <tr>\n",
       "      <th>2</th>\n",
       "      <td>2020-01-01</td>\n",
       "      <td>315796</td>\n",
       "      <td>411111711</td>\n",
       "      <td>Despesas com Eventos / Sinistros na modalidade...</td>\n",
       "      <td>92525,89</td>\n",
       "      <td>NaN</td>\n",
       "    </tr>\n",
       "    <tr>\n",
       "      <th>3</th>\n",
       "      <td>2020-01-01</td>\n",
       "      <td>315796</td>\n",
       "      <td>411111712</td>\n",
       "      <td>Glosa na modalidade de pagamento por procedimento</td>\n",
       "      <td>-19027,66</td>\n",
       "      <td>NaN</td>\n",
       "    </tr>\n",
       "    <tr>\n",
       "      <th>4</th>\n",
       "      <td>2020-01-01</td>\n",
       "      <td>315796</td>\n",
       "      <td>411111713</td>\n",
       "      <td>Recuperação por Co-Participação na modalidade ...</td>\n",
       "      <td>-2682,59</td>\n",
       "      <td>NaN</td>\n",
       "    </tr>\n",
       "    <tr>\n",
       "      <th>...</th>\n",
       "      <td>...</td>\n",
       "      <td>...</td>\n",
       "      <td>...</td>\n",
       "      <td>...</td>\n",
       "      <td>...</td>\n",
       "      <td>...</td>\n",
       "    </tr>\n",
       "    <tr>\n",
       "      <th>5965852</th>\n",
       "      <td>2021-10-01</td>\n",
       "      <td>311693</td>\n",
       "      <td>46331</td>\n",
       "      <td>DESPESAS COM UTILIZAÇÃO DE EQUIPAMENTOS E VEÍC...</td>\n",
       "      <td>0,00</td>\n",
       "      <td>0,00</td>\n",
       "    </tr>\n",
       "    <tr>\n",
       "      <th>5965853</th>\n",
       "      <td>2021-10-01</td>\n",
       "      <td>311693</td>\n",
       "      <td>463319</td>\n",
       "      <td>Despesas com Utilização de Equipamentos e Veíc...</td>\n",
       "      <td>0,00</td>\n",
       "      <td>0,00</td>\n",
       "    </tr>\n",
       "    <tr>\n",
       "      <th>5965854</th>\n",
       "      <td>2021-10-01</td>\n",
       "      <td>311693</td>\n",
       "      <td>46331901</td>\n",
       "      <td>Despesas com Utilização de Equipamentos e Veíc...</td>\n",
       "      <td>0,00</td>\n",
       "      <td>0,00</td>\n",
       "    </tr>\n",
       "    <tr>\n",
       "      <th>5965855</th>\n",
       "      <td>2021-10-01</td>\n",
       "      <td>311693</td>\n",
       "      <td>463319011</td>\n",
       "      <td>Aluguel</td>\n",
       "      <td>0,00</td>\n",
       "      <td>0,00</td>\n",
       "    </tr>\n",
       "    <tr>\n",
       "      <th>5965856</th>\n",
       "      <td>2021-10-01</td>\n",
       "      <td>311693</td>\n",
       "      <td>463319012</td>\n",
       "      <td>Arrendamento Mercantil Operacional</td>\n",
       "      <td>0,00</td>\n",
       "      <td>0,00</td>\n",
       "    </tr>\n",
       "  </tbody>\n",
       "</table>\n",
       "<p>5965857 rows × 6 columns</p>\n",
       "</div>"
      ],
      "text/plain": [
       "              DATA  REG_ANS  CD_CONTA_CONTABIL  \\\n",
       "0       2020-01-01   315796          411111263   \n",
       "1       2020-01-01   315796           41111171   \n",
       "2       2020-01-01   315796          411111711   \n",
       "3       2020-01-01   315796          411111712   \n",
       "4       2020-01-01   315796          411111713   \n",
       "...            ...      ...                ...   \n",
       "5965852 2021-10-01   311693              46331   \n",
       "5965853 2021-10-01   311693             463319   \n",
       "5965854 2021-10-01   311693           46331901   \n",
       "5965855 2021-10-01   311693          463319011   \n",
       "5965856 2021-10-01   311693          463319012   \n",
       "\n",
       "                                                 DESCRICAO VL_SALDO_FINAL  \\\n",
       "0        Recuperação por Co-Participação na modalidade ...     -723497,64   \n",
       "1               Planos Individuais/Familiares antes da Lei       70815,64   \n",
       "2        Despesas com Eventos / Sinistros na modalidade...       92525,89   \n",
       "3        Glosa na modalidade de pagamento por procedimento      -19027,66   \n",
       "4        Recuperação por Co-Participação na modalidade ...       -2682,59   \n",
       "...                                                    ...            ...   \n",
       "5965852  DESPESAS COM UTILIZAÇÃO DE EQUIPAMENTOS E VEÍC...           0,00   \n",
       "5965853  Despesas com Utilização de Equipamentos e Veíc...           0,00   \n",
       "5965854  Despesas com Utilização de Equipamentos e Veíc...           0,00   \n",
       "5965855                                            Aluguel           0,00   \n",
       "5965856                 Arrendamento Mercantil Operacional           0,00   \n",
       "\n",
       "        VL_SALDO_INICIAL  \n",
       "0                    NaN  \n",
       "1                    NaN  \n",
       "2                    NaN  \n",
       "3                    NaN  \n",
       "4                    NaN  \n",
       "...                  ...  \n",
       "5965852             0,00  \n",
       "5965853             0,00  \n",
       "5965854             0,00  \n",
       "5965855             0,00  \n",
       "5965856             0,00  \n",
       "\n",
       "[5965857 rows x 6 columns]"
      ]
     },
     "execution_count": 147,
     "metadata": {},
     "output_type": "execute_result"
    }
   ],
   "source": [
    "combined_csv['DATA'] = pd.to_datetime(combined_csv['DATA'])\n",
    "combined_csv"
   ]
  },
  {
   "cell_type": "code",
   "execution_count": 148,
   "id": "c7f91237",
   "metadata": {},
   "outputs": [
    {
     "name": "stdout",
     "output_type": "stream",
     "text": [
      "<class 'pandas.core.frame.DataFrame'>\n",
      "RangeIndex: 5965857 entries, 0 to 5965856\n",
      "Data columns (total 6 columns):\n",
      " #   Column             Dtype         \n",
      "---  ------             -----         \n",
      " 0   DATA               datetime64[ns]\n",
      " 1   REG_ANS            int64         \n",
      " 2   CD_CONTA_CONTABIL  int64         \n",
      " 3   DESCRICAO          object        \n",
      " 4   VL_SALDO_FINAL     object        \n",
      " 5   VL_SALDO_INICIAL   object        \n",
      "dtypes: datetime64[ns](1), int64(2), object(3)\n",
      "memory usage: 273.1+ MB\n"
     ]
    }
   ],
   "source": [
    "combined_csv.info()"
   ]
  },
  {
   "cell_type": "markdown",
   "id": "2d76720f",
   "metadata": {},
   "source": [
    "###### Salvando arquivo no csv"
   ]
  },
  {
   "cell_type": "code",
   "execution_count": null,
   "id": "ca683c4d",
   "metadata": {},
   "outputs": [],
   "source": [
    "combined_csv.to_csv('combined.csv', sep=';')"
   ]
  }
 ],
 "metadata": {
  "kernelspec": {
   "display_name": "Python 3",
   "language": "python",
   "name": "python3"
  },
  "language_info": {
   "codemirror_mode": {
    "name": "ipython",
    "version": 3
   },
   "file_extension": ".py",
   "mimetype": "text/x-python",
   "name": "python",
   "nbconvert_exporter": "python",
   "pygments_lexer": "ipython3",
   "version": "3.8.8"
  }
 },
 "nbformat": 4,
 "nbformat_minor": 5
}
